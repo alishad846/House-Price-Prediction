{
 "cells": [
  {
   "cell_type": "code",
   "execution_count": 521,
   "id": "22bcc044-21c4-44ef-b61c-f529c648b03c",
   "metadata": {},
   "outputs": [
    {
     "data": {
      "text/html": [
       "\n",
       "    <h1 style=\"text-align: center; color: #2E86C1; font-family: 'Trebuchet MS', sans-serif;\">\n",
       "        Spam Mail Classification\n",
       "    </h1>\n",
       "    <h5 style=\"text-align: center; color: #2874A6; font-family: 'Georgia', serif;\">\n",
       "        Made By Shad Ali <br> 28/07/2024\n",
       "    </h5>\n"
      ],
      "text/plain": [
       "<IPython.core.display.HTML object>"
      ]
     },
     "metadata": {},
     "output_type": "display_data"
    }
   ],
   "source": [
    "from IPython.display import display, HTML\n",
    "\n",
    "display(HTML('''\n",
    "    <h1 style=\"text-align: center; color: #2E86C1; font-family: 'Trebuchet MS', sans-serif;\">\n",
    "        Spam Mail Classification\n",
    "    </h1>\n",
    "    <h5 style=\"text-align: center; color: #2874A6; font-family: 'Georgia', serif;\">\n",
    "        Made By Shad Ali <br> 28/07/2024\n",
    "    </h5>\n",
    "'''))\n"
   ]
  },
  {
   "cell_type": "code",
   "execution_count": 523,
   "id": "ed330e70-658b-47d5-af15-2d40f2b1c386",
   "metadata": {},
   "outputs": [],
   "source": [
    "import pandas as pd\n",
    "import numpy as np\n",
    "import matplotlib.pyplot as plt\n",
    "import seaborn as sns\n",
    "from sklearn.naive_bayes import MultinomialNB\n",
    "from sklearn.model_selection import train_test_split\n",
    "from sklearn.preprocessing import LabelEncoder\n",
    "from sklearn.linear_model import LogisticRegression\n",
    "from sklearn.feature_extraction.text import TfidfVectorizer\n",
    "from sklearn.tree import DecisionTreeClassifier\n",
    "from sklearn.metrics import accuracy_score, classification_report, confusion_matrix , precision_score, recall_score, f1_score"
   ]
  },
  {
   "cell_type": "code",
   "execution_count": 525,
   "id": "540f7f28-d8da-4240-a908-b441428cdaec",
   "metadata": {},
   "outputs": [],
   "source": [
    "df=pd.read_csv(\"data/spam_ham_dataset.csv\")"
   ]
  },
  {
   "cell_type": "code",
   "execution_count": 527,
   "id": "3a134db6-6c38-4a8a-b61f-88ed04b2340a",
   "metadata": {},
   "outputs": [
    {
     "data": {
      "text/html": [
       "<div>\n",
       "<style scoped>\n",
       "    .dataframe tbody tr th:only-of-type {\n",
       "        vertical-align: middle;\n",
       "    }\n",
       "\n",
       "    .dataframe tbody tr th {\n",
       "        vertical-align: top;\n",
       "    }\n",
       "\n",
       "    .dataframe thead th {\n",
       "        text-align: right;\n",
       "    }\n",
       "</style>\n",
       "<table border=\"1\" class=\"dataframe\">\n",
       "  <thead>\n",
       "    <tr style=\"text-align: right;\">\n",
       "      <th></th>\n",
       "      <th>Unnamed: 0</th>\n",
       "      <th>label</th>\n",
       "      <th>text</th>\n",
       "      <th>label_num</th>\n",
       "    </tr>\n",
       "  </thead>\n",
       "  <tbody>\n",
       "    <tr>\n",
       "      <th>0</th>\n",
       "      <td>605</td>\n",
       "      <td>ham</td>\n",
       "      <td>Subject: enron methanol ; meter # : 988291\\r\\n...</td>\n",
       "      <td>0</td>\n",
       "    </tr>\n",
       "    <tr>\n",
       "      <th>1</th>\n",
       "      <td>2349</td>\n",
       "      <td>ham</td>\n",
       "      <td>Subject: hpl nom for january 9 , 2001\\r\\n( see...</td>\n",
       "      <td>0</td>\n",
       "    </tr>\n",
       "    <tr>\n",
       "      <th>2</th>\n",
       "      <td>3624</td>\n",
       "      <td>ham</td>\n",
       "      <td>Subject: neon retreat\\r\\nho ho ho , we ' re ar...</td>\n",
       "      <td>0</td>\n",
       "    </tr>\n",
       "    <tr>\n",
       "      <th>3</th>\n",
       "      <td>4685</td>\n",
       "      <td>spam</td>\n",
       "      <td>Subject: photoshop , windows , office . cheap ...</td>\n",
       "      <td>1</td>\n",
       "    </tr>\n",
       "    <tr>\n",
       "      <th>4</th>\n",
       "      <td>2030</td>\n",
       "      <td>ham</td>\n",
       "      <td>Subject: re : indian springs\\r\\nthis deal is t...</td>\n",
       "      <td>0</td>\n",
       "    </tr>\n",
       "    <tr>\n",
       "      <th>...</th>\n",
       "      <td>...</td>\n",
       "      <td>...</td>\n",
       "      <td>...</td>\n",
       "      <td>...</td>\n",
       "    </tr>\n",
       "    <tr>\n",
       "      <th>5166</th>\n",
       "      <td>1518</td>\n",
       "      <td>ham</td>\n",
       "      <td>Subject: put the 10 on the ft\\r\\nthe transport...</td>\n",
       "      <td>0</td>\n",
       "    </tr>\n",
       "    <tr>\n",
       "      <th>5167</th>\n",
       "      <td>404</td>\n",
       "      <td>ham</td>\n",
       "      <td>Subject: 3 / 4 / 2000 and following noms\\r\\nhp...</td>\n",
       "      <td>0</td>\n",
       "    </tr>\n",
       "    <tr>\n",
       "      <th>5168</th>\n",
       "      <td>2933</td>\n",
       "      <td>ham</td>\n",
       "      <td>Subject: calpine daily gas nomination\\r\\n&gt;\\r\\n...</td>\n",
       "      <td>0</td>\n",
       "    </tr>\n",
       "    <tr>\n",
       "      <th>5169</th>\n",
       "      <td>1409</td>\n",
       "      <td>ham</td>\n",
       "      <td>Subject: industrial worksheets for august 2000...</td>\n",
       "      <td>0</td>\n",
       "    </tr>\n",
       "    <tr>\n",
       "      <th>5170</th>\n",
       "      <td>4807</td>\n",
       "      <td>spam</td>\n",
       "      <td>Subject: important online banking alert\\r\\ndea...</td>\n",
       "      <td>1</td>\n",
       "    </tr>\n",
       "  </tbody>\n",
       "</table>\n",
       "<p>5171 rows × 4 columns</p>\n",
       "</div>"
      ],
      "text/plain": [
       "      Unnamed: 0 label                                               text  \\\n",
       "0            605   ham  Subject: enron methanol ; meter # : 988291\\r\\n...   \n",
       "1           2349   ham  Subject: hpl nom for january 9 , 2001\\r\\n( see...   \n",
       "2           3624   ham  Subject: neon retreat\\r\\nho ho ho , we ' re ar...   \n",
       "3           4685  spam  Subject: photoshop , windows , office . cheap ...   \n",
       "4           2030   ham  Subject: re : indian springs\\r\\nthis deal is t...   \n",
       "...          ...   ...                                                ...   \n",
       "5166        1518   ham  Subject: put the 10 on the ft\\r\\nthe transport...   \n",
       "5167         404   ham  Subject: 3 / 4 / 2000 and following noms\\r\\nhp...   \n",
       "5168        2933   ham  Subject: calpine daily gas nomination\\r\\n>\\r\\n...   \n",
       "5169        1409   ham  Subject: industrial worksheets for august 2000...   \n",
       "5170        4807  spam  Subject: important online banking alert\\r\\ndea...   \n",
       "\n",
       "      label_num  \n",
       "0             0  \n",
       "1             0  \n",
       "2             0  \n",
       "3             1  \n",
       "4             0  \n",
       "...         ...  \n",
       "5166          0  \n",
       "5167          0  \n",
       "5168          0  \n",
       "5169          0  \n",
       "5170          1  \n",
       "\n",
       "[5171 rows x 4 columns]"
      ]
     },
     "execution_count": 527,
     "metadata": {},
     "output_type": "execute_result"
    }
   ],
   "source": [
    "df"
   ]
  },
  {
   "cell_type": "code",
   "execution_count": 529,
   "id": "409afe22-a8b5-490e-94fb-5048d4980679",
   "metadata": {},
   "outputs": [
    {
     "data": {
      "text/html": [
       "<div>\n",
       "<style scoped>\n",
       "    .dataframe tbody tr th:only-of-type {\n",
       "        vertical-align: middle;\n",
       "    }\n",
       "\n",
       "    .dataframe tbody tr th {\n",
       "        vertical-align: top;\n",
       "    }\n",
       "\n",
       "    .dataframe thead th {\n",
       "        text-align: right;\n",
       "    }\n",
       "</style>\n",
       "<table border=\"1\" class=\"dataframe\">\n",
       "  <thead>\n",
       "    <tr style=\"text-align: right;\">\n",
       "      <th></th>\n",
       "      <th>Unnamed: 0</th>\n",
       "      <th>label_num</th>\n",
       "    </tr>\n",
       "  </thead>\n",
       "  <tbody>\n",
       "    <tr>\n",
       "      <th>count</th>\n",
       "      <td>5171.000000</td>\n",
       "      <td>5171.000000</td>\n",
       "    </tr>\n",
       "    <tr>\n",
       "      <th>mean</th>\n",
       "      <td>2585.000000</td>\n",
       "      <td>0.289886</td>\n",
       "    </tr>\n",
       "    <tr>\n",
       "      <th>std</th>\n",
       "      <td>1492.883452</td>\n",
       "      <td>0.453753</td>\n",
       "    </tr>\n",
       "    <tr>\n",
       "      <th>min</th>\n",
       "      <td>0.000000</td>\n",
       "      <td>0.000000</td>\n",
       "    </tr>\n",
       "    <tr>\n",
       "      <th>25%</th>\n",
       "      <td>1292.500000</td>\n",
       "      <td>0.000000</td>\n",
       "    </tr>\n",
       "    <tr>\n",
       "      <th>50%</th>\n",
       "      <td>2585.000000</td>\n",
       "      <td>0.000000</td>\n",
       "    </tr>\n",
       "    <tr>\n",
       "      <th>75%</th>\n",
       "      <td>3877.500000</td>\n",
       "      <td>1.000000</td>\n",
       "    </tr>\n",
       "    <tr>\n",
       "      <th>max</th>\n",
       "      <td>5170.000000</td>\n",
       "      <td>1.000000</td>\n",
       "    </tr>\n",
       "  </tbody>\n",
       "</table>\n",
       "</div>"
      ],
      "text/plain": [
       "        Unnamed: 0    label_num\n",
       "count  5171.000000  5171.000000\n",
       "mean   2585.000000     0.289886\n",
       "std    1492.883452     0.453753\n",
       "min       0.000000     0.000000\n",
       "25%    1292.500000     0.000000\n",
       "50%    2585.000000     0.000000\n",
       "75%    3877.500000     1.000000\n",
       "max    5170.000000     1.000000"
      ]
     },
     "execution_count": 529,
     "metadata": {},
     "output_type": "execute_result"
    }
   ],
   "source": [
    "df.describe()"
   ]
  },
  {
   "cell_type": "code",
   "execution_count": 531,
   "id": "f5cbd8b0-956d-4b4a-aad5-94df39573709",
   "metadata": {},
   "outputs": [
    {
     "data": {
      "text/plain": [
       "Unnamed: 0    0\n",
       "label         0\n",
       "text          0\n",
       "label_num     0\n",
       "dtype: int64"
      ]
     },
     "execution_count": 531,
     "metadata": {},
     "output_type": "execute_result"
    }
   ],
   "source": [
    "df.isnull().sum()"
   ]
  },
  {
   "cell_type": "code",
   "execution_count": 533,
   "id": "20837a0a-39ed-4e27-a59e-ab05fb86b4d9",
   "metadata": {},
   "outputs": [
    {
     "data": {
      "text/plain": [
       "(5171, 4)"
      ]
     },
     "execution_count": 533,
     "metadata": {},
     "output_type": "execute_result"
    }
   ],
   "source": [
    "df.shape"
   ]
  },
  {
   "cell_type": "code",
   "execution_count": 535,
   "id": "28597b69-c877-40d1-b99f-e502dc608599",
   "metadata": {},
   "outputs": [
    {
     "data": {
      "text/plain": [
       "Index(['Unnamed: 0', 'label', 'text', 'label_num'], dtype='object')"
      ]
     },
     "execution_count": 535,
     "metadata": {},
     "output_type": "execute_result"
    }
   ],
   "source": [
    "df.columns"
   ]
  },
  {
   "cell_type": "code",
   "execution_count": 537,
   "id": "081534fc-e2a6-45e9-843b-6881fc3bcbcb",
   "metadata": {},
   "outputs": [
    {
     "data": {
      "text/html": [
       "<div>\n",
       "<style scoped>\n",
       "    .dataframe tbody tr th:only-of-type {\n",
       "        vertical-align: middle;\n",
       "    }\n",
       "\n",
       "    .dataframe tbody tr th {\n",
       "        vertical-align: top;\n",
       "    }\n",
       "\n",
       "    .dataframe thead th {\n",
       "        text-align: right;\n",
       "    }\n",
       "</style>\n",
       "<table border=\"1\" class=\"dataframe\">\n",
       "  <thead>\n",
       "    <tr style=\"text-align: right;\">\n",
       "      <th></th>\n",
       "      <th>Unnamed: 0</th>\n",
       "      <th>label</th>\n",
       "      <th>text</th>\n",
       "      <th>label_num</th>\n",
       "    </tr>\n",
       "  </thead>\n",
       "  <tbody>\n",
       "    <tr>\n",
       "      <th>4093</th>\n",
       "      <td>1479</td>\n",
       "      <td>ham</td>\n",
       "      <td>Subject: spot or firm tickets\\r\\ndaren ,\\r\\nfy...</td>\n",
       "      <td>0</td>\n",
       "    </tr>\n",
       "    <tr>\n",
       "      <th>1872</th>\n",
       "      <td>3080</td>\n",
       "      <td>ham</td>\n",
       "      <td>Subject: retroactive adjustments\\r\\nthe follow...</td>\n",
       "      <td>0</td>\n",
       "    </tr>\n",
       "    <tr>\n",
       "      <th>1922</th>\n",
       "      <td>1659</td>\n",
       "      <td>ham</td>\n",
       "      <td>Subject: re : duke energy\\r\\nduke will be paid...</td>\n",
       "      <td>0</td>\n",
       "    </tr>\n",
       "    <tr>\n",
       "      <th>4975</th>\n",
       "      <td>182</td>\n",
       "      <td>ham</td>\n",
       "      <td>Subject: ces desk move\\r\\nassuming the test re...</td>\n",
       "      <td>0</td>\n",
       "    </tr>\n",
       "    <tr>\n",
       "      <th>2357</th>\n",
       "      <td>367</td>\n",
       "      <td>ham</td>\n",
       "      <td>Subject: revised copanop # for lst\\r\\n- - - - ...</td>\n",
       "      <td>0</td>\n",
       "    </tr>\n",
       "    <tr>\n",
       "      <th>1648</th>\n",
       "      <td>1398</td>\n",
       "      <td>ham</td>\n",
       "      <td>Subject: calpine daily gas nomination\\r\\n&gt;\\r\\n...</td>\n",
       "      <td>0</td>\n",
       "    </tr>\n",
       "    <tr>\n",
       "      <th>4456</th>\n",
       "      <td>1442</td>\n",
       "      <td>ham</td>\n",
       "      <td>Subject: re : feedback monitor error - meter 9...</td>\n",
       "      <td>0</td>\n",
       "    </tr>\n",
       "    <tr>\n",
       "      <th>3702</th>\n",
       "      <td>1910</td>\n",
       "      <td>ham</td>\n",
       "      <td>Subject: fw : n . padre 883 gas allocation\\r\\n...</td>\n",
       "      <td>0</td>\n",
       "    </tr>\n",
       "    <tr>\n",
       "      <th>955</th>\n",
       "      <td>2440</td>\n",
       "      <td>ham</td>\n",
       "      <td>Subject: february wellhead production estimate...</td>\n",
       "      <td>0</td>\n",
       "    </tr>\n",
       "    <tr>\n",
       "      <th>4272</th>\n",
       "      <td>2528</td>\n",
       "      <td>ham</td>\n",
       "      <td>Subject: eastrans nominations change effective...</td>\n",
       "      <td>0</td>\n",
       "    </tr>\n",
       "  </tbody>\n",
       "</table>\n",
       "</div>"
      ],
      "text/plain": [
       "      Unnamed: 0 label                                               text  \\\n",
       "4093        1479   ham  Subject: spot or firm tickets\\r\\ndaren ,\\r\\nfy...   \n",
       "1872        3080   ham  Subject: retroactive adjustments\\r\\nthe follow...   \n",
       "1922        1659   ham  Subject: re : duke energy\\r\\nduke will be paid...   \n",
       "4975         182   ham  Subject: ces desk move\\r\\nassuming the test re...   \n",
       "2357         367   ham  Subject: revised copanop # for lst\\r\\n- - - - ...   \n",
       "1648        1398   ham  Subject: calpine daily gas nomination\\r\\n>\\r\\n...   \n",
       "4456        1442   ham  Subject: re : feedback monitor error - meter 9...   \n",
       "3702        1910   ham  Subject: fw : n . padre 883 gas allocation\\r\\n...   \n",
       "955         2440   ham  Subject: february wellhead production estimate...   \n",
       "4272        2528   ham  Subject: eastrans nominations change effective...   \n",
       "\n",
       "      label_num  \n",
       "4093          0  \n",
       "1872          0  \n",
       "1922          0  \n",
       "4975          0  \n",
       "2357          0  \n",
       "1648          0  \n",
       "4456          0  \n",
       "3702          0  \n",
       "955           0  \n",
       "4272          0  "
      ]
     },
     "execution_count": 537,
     "metadata": {},
     "output_type": "execute_result"
    }
   ],
   "source": [
    "df.head(10)\n",
    "df.sample(10)"
   ]
  },
  {
   "cell_type": "code",
   "execution_count": 539,
   "id": "64d8fda9-696b-4747-abd7-f259eadcb345",
   "metadata": {},
   "outputs": [
    {
     "name": "stdout",
     "output_type": "stream",
     "text": [
      "<class 'pandas.core.frame.DataFrame'>\n",
      "RangeIndex: 5171 entries, 0 to 5170\n",
      "Data columns (total 4 columns):\n",
      " #   Column      Non-Null Count  Dtype \n",
      "---  ------      --------------  ----- \n",
      " 0   Unnamed: 0  5171 non-null   int64 \n",
      " 1   label       5171 non-null   object\n",
      " 2   text        5171 non-null   object\n",
      " 3   label_num   5171 non-null   int64 \n",
      "dtypes: int64(2), object(2)\n",
      "memory usage: 161.7+ KB\n"
     ]
    }
   ],
   "source": [
    "df.info()"
   ]
  },
  {
   "cell_type": "markdown",
   "id": "a2d1221d-534a-4a19-b6c9-311095de1c9d",
   "metadata": {},
   "source": [
    "Exploratory Data Analysis (EDA)\n",
    "\r\n",
    "We can understand data deeper in Exploratory Data Analysis (EDA). In this step, we will do exploratory data analysis."
   ]
  },
  {
   "cell_type": "code",
   "execution_count": 542,
   "id": "c156134b-5a80-4aee-9840-20a324f50040",
   "metadata": {},
   "outputs": [
    {
     "data": {
      "text/plain": [
       "label\n",
       "ham     3672\n",
       "spam    1499\n",
       "Name: count, dtype: int64"
      ]
     },
     "execution_count": 542,
     "metadata": {},
     "output_type": "execute_result"
    }
   ],
   "source": [
    "label_counts = df['label'].value_counts()\n",
    "\n",
    "label_counts"
   ]
  },
  {
   "cell_type": "code",
   "execution_count": 544,
   "id": "c89faadd-ddd6-4c75-8342-d8144e2654ac",
   "metadata": {},
   "outputs": [],
   "source": [
    "spam_count = label_counts.get('spam', 0)\n",
    "len_df=len(df)\n",
    "non_spam_count=len_df-spam_count"
   ]
  },
  {
   "cell_type": "code",
   "execution_count": 546,
   "id": "fef6a216-5591-4165-9dc5-2d1be8ad3f0c",
   "metadata": {},
   "outputs": [
    {
     "name": "stdout",
     "output_type": "stream",
     "text": [
      "Spam 1499\n",
      "length of data 5171\n",
      "Non-Spam 3672\n"
     ]
    }
   ],
   "source": [
    "print('Spam',spam_count)\n",
    "print('length of data',len_df)\n",
    "print('Non-Spam',non_spam_count)"
   ]
  },
  {
   "cell_type": "markdown",
   "id": "7c3abc35-6ac0-43cc-960b-65c47cefbaad",
   "metadata": {},
   "source": [
    "Now We determine the Spam Mails\n"
   ]
  },
  {
   "cell_type": "code",
   "execution_count": 549,
   "id": "15ebcaf6-d5e0-461c-a86a-dd55d87568b5",
   "metadata": {},
   "outputs": [
    {
     "data": {
      "text/plain": [
       "Text(0, 0.5, 'Nuumer of mails')"
      ]
     },
     "execution_count": 549,
     "metadata": {},
     "output_type": "execute_result"
    },
    {
     "data": {
      "image/png": "[encoded data removed]",
      "text/plain": [
       "<Figure size 640x480 with 1 Axes>"
      ]
     },
     "metadata": {},
     "output_type": "display_data"
    }
   ],
   "source": [
    "color=['Red','Green']\n",
    "categories=['spam','non-Spam']\n",
    "values=[spam_count,non_spam_count]\n",
    "plt.bar(categories,values,color=color)\n",
    "plt.title(\"Bar Graph\")\n",
    "plt.xlabel(\"EMAIL-TYPE\")\n",
    "plt.ylabel(\"Nuumer of mails\")"
   ]
  },
  {
   "cell_type": "code",
   "execution_count": 551,
   "id": "d152322c-7b48-4748-8a44-afbc8d4c8933",
   "metadata": {},
   "outputs": [
    {
     "data": {
      "image/png": "[encoded data removed]",
      "text/plain": [
       "<Figure size 640x480 with 1 Axes>"
      ]
     },
     "metadata": {},
     "output_type": "display_data"
    }
   ],
   "source": [
    "import matplotlib.pyplot as plt\n",
    "spam_percent = (spam_count / len_df) * 100\n",
    "non_spam_percent = (non_spam_count / len_df) * 100\n",
    "labels = 'Spam', 'Non-spam'\n",
    "sizes = [spam_percent, non_spam_percent]\n",
    "colors = ['red', 'blue']\n",
    "explode = (0.1, 0.231)\n",
    "plt.pie(sizes, explode=explode, labels=labels, colors=colors, autopct='%0.2f%%', shadow=True, startangle=0)\n",
    "plt.axis('equal')\n",
    "plt.title('Email Classification')\n",
    "plt.show()"
   ]
  },
  {
   "cell_type": "code",
   "execution_count": 553,
   "id": "fae1db74-6095-4608-9e64-8b4f348119fb",
   "metadata": {},
   "outputs": [
    {
     "name": "stderr",
     "output_type": "stream",
     "text": [
      "C:\\Users\\asus\\AppData\\Local\\Temp\\ipykernel_18988\\1186831680.py:3: UserWarning: \n",
      "\n",
      "`distplot` is a deprecated function and will be removed in seaborn v0.14.0.\n",
      "\n",
      "Please adapt your code to use either `displot` (a figure-level function with\n",
      "similar flexibility) or `histplot` (an axes-level function for histograms).\n",
      "\n",
      "For a guide to updating your code to use the new functions, please see\n",
      "https://gist.github.com/mwaskom/de44147ed2974457ad6372750bbe5751\n",
      "\n",
      "  sns.distplot(df[col]).set_title(col)\n",
      "C:\\Users\\asus\\anaconda3\\Lib\\site-packages\\seaborn\\_oldcore.py:1119: FutureWarning: use_inf_as_na option is deprecated and will be removed in a future version. Convert inf values to NaN before operating instead.\n",
      "  with pd.option_context('mode.use_inf_as_na', True):\n"
     ]
    },
    {
     "data": {
      "image/png": "[encoded data removed]",
      "text/plain": [
       "<Figure size 640x480 with 1 Axes>"
      ]
     },
     "metadata": {},
     "output_type": "display_data"
    },
    {
     "name": "stderr",
     "output_type": "stream",
     "text": [
      "C:\\Users\\asus\\AppData\\Local\\Temp\\ipykernel_18988\\1186831680.py:3: UserWarning: \n",
      "\n",
      "`distplot` is a deprecated function and will be removed in seaborn v0.14.0.\n",
      "\n",
      "Please adapt your code to use either `displot` (a figure-level function with\n",
      "similar flexibility) or `histplot` (an axes-level function for histograms).\n",
      "\n",
      "For a guide to updating your code to use the new functions, please see\n",
      "https://gist.github.com/mwaskom/de44147ed2974457ad6372750bbe5751\n",
      "\n",
      "  sns.distplot(df[col]).set_title(col)\n",
      "C:\\Users\\asus\\anaconda3\\Lib\\site-packages\\seaborn\\_oldcore.py:1119: FutureWarning: use_inf_as_na option is deprecated and will be removed in a future version. Convert inf values to NaN before operating instead.\n",
      "  with pd.option_context('mode.use_inf_as_na', True):\n"
     ]
    },
    {
     "data": {
      "image/png": "[encoded data removed]",
      "text/plain": [
       "<Figure size 640x480 with 1 Axes>"
      ]
     },
     "metadata": {},
     "output_type": "display_data"
    }
   ],
   "source": [
    "for col in df.columns[:10]:\n",
    "    if df[col].dtype != 'object':\n",
    "        sns.distplot(df[col]).set_title(col)\n",
    "        plt.show()"
   ]
  },
  {
   "cell_type": "code",
   "execution_count": 554,
   "id": "b76f706a-2210-4e22-92ec-4ae132490dc5",
   "metadata": {},
   "outputs": [
    {
     "data": {
      "text/html": [
       "<div>\n",
       "<style scoped>\n",
       "    .dataframe tbody tr th:only-of-type {\n",
       "        vertical-align: middle;\n",
       "    }\n",
       "\n",
       "    .dataframe tbody tr th {\n",
       "        vertical-align: top;\n",
       "    }\n",
       "\n",
       "    .dataframe thead th {\n",
       "        text-align: right;\n",
       "    }\n",
       "</style>\n",
       "<table border=\"1\" class=\"dataframe\">\n",
       "  <thead>\n",
       "    <tr style=\"text-align: right;\">\n",
       "      <th></th>\n",
       "      <th>label</th>\n",
       "      <th>text</th>\n",
       "      <th>label_num</th>\n",
       "    </tr>\n",
       "  </thead>\n",
       "  <tbody>\n",
       "    <tr>\n",
       "      <th>0</th>\n",
       "      <td>ham</td>\n",
       "      <td>Subject: enron methanol ; meter # : 988291\\r\\n...</td>\n",
       "      <td>0</td>\n",
       "    </tr>\n",
       "    <tr>\n",
       "      <th>1</th>\n",
       "      <td>ham</td>\n",
       "      <td>Subject: hpl nom for january 9 , 2001\\r\\n( see...</td>\n",
       "      <td>0</td>\n",
       "    </tr>\n",
       "    <tr>\n",
       "      <th>2</th>\n",
       "      <td>ham</td>\n",
       "      <td>Subject: neon retreat\\r\\nho ho ho , we ' re ar...</td>\n",
       "      <td>0</td>\n",
       "    </tr>\n",
       "    <tr>\n",
       "      <th>3</th>\n",
       "      <td>spam</td>\n",
       "      <td>Subject: photoshop , windows , office . cheap ...</td>\n",
       "      <td>1</td>\n",
       "    </tr>\n",
       "    <tr>\n",
       "      <th>4</th>\n",
       "      <td>ham</td>\n",
       "      <td>Subject: re : indian springs\\r\\nthis deal is t...</td>\n",
       "      <td>0</td>\n",
       "    </tr>\n",
       "    <tr>\n",
       "      <th>...</th>\n",
       "      <td>...</td>\n",
       "      <td>...</td>\n",
       "      <td>...</td>\n",
       "    </tr>\n",
       "    <tr>\n",
       "      <th>5166</th>\n",
       "      <td>ham</td>\n",
       "      <td>Subject: put the 10 on the ft\\r\\nthe transport...</td>\n",
       "      <td>0</td>\n",
       "    </tr>\n",
       "    <tr>\n",
       "      <th>5167</th>\n",
       "      <td>ham</td>\n",
       "      <td>Subject: 3 / 4 / 2000 and following noms\\r\\nhp...</td>\n",
       "      <td>0</td>\n",
       "    </tr>\n",
       "    <tr>\n",
       "      <th>5168</th>\n",
       "      <td>ham</td>\n",
       "      <td>Subject: calpine daily gas nomination\\r\\n&gt;\\r\\n...</td>\n",
       "      <td>0</td>\n",
       "    </tr>\n",
       "    <tr>\n",
       "      <th>5169</th>\n",
       "      <td>ham</td>\n",
       "      <td>Subject: industrial worksheets for august 2000...</td>\n",
       "      <td>0</td>\n",
       "    </tr>\n",
       "    <tr>\n",
       "      <th>5170</th>\n",
       "      <td>spam</td>\n",
       "      <td>Subject: important online banking alert\\r\\ndea...</td>\n",
       "      <td>1</td>\n",
       "    </tr>\n",
       "  </tbody>\n",
       "</table>\n",
       "<p>5171 rows × 3 columns</p>\n",
       "</div>"
      ],
      "text/plain": [
       "     label                                               text  label_num\n",
       "0      ham  Subject: enron methanol ; meter # : 988291\\r\\n...          0\n",
       "1      ham  Subject: hpl nom for january 9 , 2001\\r\\n( see...          0\n",
       "2      ham  Subject: neon retreat\\r\\nho ho ho , we ' re ar...          0\n",
       "3     spam  Subject: photoshop , windows , office . cheap ...          1\n",
       "4      ham  Subject: re : indian springs\\r\\nthis deal is t...          0\n",
       "...    ...                                                ...        ...\n",
       "5166   ham  Subject: put the 10 on the ft\\r\\nthe transport...          0\n",
       "5167   ham  Subject: 3 / 4 / 2000 and following noms\\r\\nhp...          0\n",
       "5168   ham  Subject: calpine daily gas nomination\\r\\n>\\r\\n...          0\n",
       "5169   ham  Subject: industrial worksheets for august 2000...          0\n",
       "5170  spam  Subject: important online banking alert\\r\\ndea...          1\n",
       "\n",
       "[5171 rows x 3 columns]"
      ]
     },
     "execution_count": 554,
     "metadata": {},
     "output_type": "execute_result"
    }
   ],
   "source": [
    "df.iloc[ : ,1:]"
   ]
  },
  {
   "cell_type": "code",
   "execution_count": 555,
   "id": "d952447c-19e6-439a-b58b-332668b54e80",
   "metadata": {},
   "outputs": [],
   "source": [
    "vectorizer = TfidfVectorizer()\n",
    "x = vectorizer.fit_transform(df['text'])\n",
    "y = df['label']\n",
    "x_train,x_test,y_train,y_test=train_test_split(x,y,test_size=0.3,random_state=42)"
   ]
  },
  {
   "cell_type": "code",
   "execution_count": 558,
   "id": "09b9fe98-cb89-41f2-9bfd-0a9da61aa998",
   "metadata": {},
   "outputs": [
    {
     "name": "stdout",
     "output_type": "stream",
     "text": [
      "(3619, 50447)\n",
      "(1552, 50447)\n",
      "3619\n",
      "1552\n"
     ]
    }
   ],
   "source": [
    "print(x_train.shape)\n",
    "print(x_test.shape)\n",
    "print(len(y_train))\n",
    "print(len(y_test))"
   ]
  },
  {
   "cell_type": "code",
   "execution_count": 559,
   "id": "fc6a4f0d-0a80-4ae4-af78-86979277b3a8",
   "metadata": {},
   "outputs": [
    {
     "data": {
      "text/plain": [
       "<3619x50447 sparse matrix of type '<class 'numpy.float64'>'\n",
       "\twith 321120 stored elements in Compressed Sparse Row format>"
      ]
     },
     "execution_count": 559,
     "metadata": {},
     "output_type": "execute_result"
    }
   ],
   "source": [
    "x_train"
   ]
  },
  {
   "cell_type": "code",
   "execution_count": 560,
   "id": "d49a7198-507e-4375-8c6a-c0e884869bcb",
   "metadata": {},
   "outputs": [
    {
     "data": {
      "text/plain": [
       "1023     ham\n",
       "4586    spam\n",
       "2955     ham\n",
       "2495     ham\n",
       "3353     ham\n",
       "        ... \n",
       "4426     ham\n",
       "466      ham\n",
       "3092    spam\n",
       "3772     ham\n",
       "860      ham\n",
       "Name: label, Length: 3619, dtype: object"
      ]
     },
     "execution_count": 560,
     "metadata": {},
     "output_type": "execute_result"
    }
   ],
   "source": [
    "y_train"
   ]
  },
  {
   "cell_type": "markdown",
   "id": "47663d7e-8094-484a-b87e-689480d73e58",
   "metadata": {},
   "source": [
    "Convert Sparse Matrix to Dense Array:"
   ]
  },
  {
   "cell_type": "code",
   "execution_count": 566,
   "id": "1462a3ff-0537-4b31-b496-bf5aec8fd49f",
   "metadata": {},
   "outputs": [
    {
     "data": {
      "text/html": [
       "<style>#sk-container-id-8 {color: black;background-color: white;}#sk-container-id-8 pre{padding: 0;}#sk-container-id-8 div.sk-toggleable {background-color: white;}#sk-container-id-8 label.sk-toggleable__label {cursor: pointer;display: block;width: 100%;margin-bottom: 0;padding: 0.3em;box-sizing: border-box;text-align: center;}#sk-container-id-8 label.sk-toggleable__label-arrow:before {content: \"▸\";float: left;margin-right: 0.25em;color: #696969;}#sk-container-id-8 label.sk-toggleable__label-arrow:hover:before {color: black;}#sk-container-id-8 div.sk-estimator:hover label.sk-toggleable__label-arrow:before {color: black;}#sk-container-id-8 div.sk-toggleable__content {max-height: 0;max-width: 0;overflow: hidden;text-align: left;background-color: #f0f8ff;}#sk-container-id-8 div.sk-toggleable__content pre {margin: 0.2em;color: black;border-radius: 0.25em;background-color: #f0f8ff;}#sk-container-id-8 input.sk-toggleable__control:checked~div.sk-toggleable__content {max-height: 200px;max-width: 100%;overflow: auto;}#sk-container-id-8 input.sk-toggleable__control:checked~label.sk-toggleable__label-arrow:before {content: \"▾\";}#sk-container-id-8 div.sk-estimator input.sk-toggleable__control:checked~label.sk-toggleable__label {background-color: #d4ebff;}#sk-container-id-8 div.sk-label input.sk-toggleable__control:checked~label.sk-toggleable__label {background-color: #d4ebff;}#sk-container-id-8 input.sk-hidden--visually {border: 0;clip: rect(1px 1px 1px 1px);clip: rect(1px, 1px, 1px, 1px);height: 1px;margin: -1px;overflow: hidden;padding: 0;position: absolute;width: 1px;}#sk-container-id-8 div.sk-estimator {font-family: monospace;background-color: #f0f8ff;border: 1px dotted black;border-radius: 0.25em;box-sizing: border-box;margin-bottom: 0.5em;}#sk-container-id-8 div.sk-estimator:hover {background-color: #d4ebff;}#sk-container-id-8 div.sk-parallel-item::after {content: \"\";width: 100%;border-bottom: 1px solid gray;flex-grow: 1;}#sk-container-id-8 div.sk-label:hover label.sk-toggleable__label {background-color: #d4ebff;}#sk-container-id-8 div.sk-serial::before {content: \"\";position: absolute;border-left: 1px solid gray;box-sizing: border-box;top: 0;bottom: 0;left: 50%;z-index: 0;}#sk-container-id-8 div.sk-serial {display: flex;flex-direction: column;align-items: center;background-color: white;padding-right: 0.2em;padding-left: 0.2em;position: relative;}#sk-container-id-8 div.sk-item {position: relative;z-index: 1;}#sk-container-id-8 div.sk-parallel {display: flex;align-items: stretch;justify-content: center;background-color: white;position: relative;}#sk-container-id-8 div.sk-item::before, #sk-container-id-8 div.sk-parallel-item::before {content: \"\";position: absolute;border-left: 1px solid gray;box-sizing: border-box;top: 0;bottom: 0;left: 50%;z-index: -1;}#sk-container-id-8 div.sk-parallel-item {display: flex;flex-direction: column;z-index: 1;position: relative;background-color: white;}#sk-container-id-8 div.sk-parallel-item:first-child::after {align-self: flex-end;width: 50%;}#sk-container-id-8 div.sk-parallel-item:last-child::after {align-self: flex-start;width: 50%;}#sk-container-id-8 div.sk-parallel-item:only-child::after {width: 0;}#sk-container-id-8 div.sk-dashed-wrapped {border: 1px dashed gray;margin: 0 0.4em 0.5em 0.4em;box-sizing: border-box;padding-bottom: 0.4em;background-color: white;}#sk-container-id-8 div.sk-label label {font-family: monospace;font-weight: bold;display: inline-block;line-height: 1.2em;}#sk-container-id-8 div.sk-label-container {text-align: center;}#sk-container-id-8 div.sk-container {/* jupyter's `normalize.less` sets `[hidden] { display: none; }` but bootstrap.min.css set `[hidden] { display: none !important; }` so we also need the `!important` here to be able to override the default hidden behavior on the sphinx rendered scikit-learn.org. See: https://github.com/scikit-learn/scikit-learn/issues/21755 */display: inline-block !important;position: relative;}#sk-container-id-8 div.sk-text-repr-fallback {display: none;}</style><div id=\"sk-container-id-8\" class=\"sk-top-container\"><div class=\"sk-text-repr-fallback\"><pre>DecisionTreeClassifier()</pre><b>In a Jupyter environment, please rerun this cell to show the HTML representation or trust the notebook. <br />On GitHub, the HTML representation is unable to render, please try loading this page with nbviewer.org.</b></div><div class=\"sk-container\" hidden><div class=\"sk-item\"><div class=\"sk-estimator sk-toggleable\"><input class=\"sk-toggleable__control sk-hidden--visually\" id=\"sk-estimator-id-8\" type=\"checkbox\" checked><label for=\"sk-estimator-id-8\" class=\"sk-toggleable__label sk-toggleable__label-arrow\">DecisionTreeClassifier</label><div class=\"sk-toggleable__content\"><pre>DecisionTreeClassifier()</pre></div></div></div></div></div>"
      ],
      "text/plain": [
       "DecisionTreeClassifier()"
      ]
     },
     "execution_count": 566,
     "metadata": {},
     "output_type": "execute_result"
    }
   ],
   "source": [
    "# Train a Logistic Regression model\n",
    "lr_model = LogisticRegression()\n",
    "lr_model.fit(x_train, y_train)\n",
    "\n",
    "# Train a Naive Bayes model\n",
    "nb_classifier = MultinomialNB()\n",
    "nb_classifier.fit(x_train, y_train)\n",
    "\n",
    "# Train a Decision Tree model\n",
    "dt_classifier = DecisionTreeClassifier()\n",
    "dt_classifier.fit(x_train, y_train)\n"
   ]
  },
  {
   "cell_type": "code",
   "execution_count": 567,
   "id": "439e1ab1-6b67-46c7-8991-b8c5b96fba98",
   "metadata": {},
   "outputs": [
    {
     "name": "stdout",
     "output_type": "stream",
     "text": [
      "Logistic Regression Model\n",
      "Accuracy: 0.98\n",
      "Precision: 0.96\n",
      "Recall: 0.97\n",
      "F1 Score: 0.97\n",
      "\n",
      "Naive Bayes Model\n",
      "Accuracy: 0.87\n",
      "Precision: 1.00\n",
      "Recall: 0.52\n",
      "F1 Score: 0.68\n",
      "\n",
      "Decision Tree Model\n",
      "Accuracy: 0.93\n",
      "Precision: 0.87\n",
      "Recall: 0.90\n",
      "F1 Score: 0.88\n"
     ]
    }
   ],
   "source": [
    "# Make predictions on the test set\n",
    "lr_pred = lr_model.predict(x_test)\n",
    "nb_pred = nb_classifier.predict(x_test)\n",
    "dt_pred = dt_classifier.predict(x_test)\n",
    "\n",
    "# Evaluate Logistic Regression model\n",
    "lr_accuracy = accuracy_score(y_test, lr_pred)\n",
    "lr_precision = precision_score(y_test, lr_pred, pos_label='spam')\n",
    "lr_recall = recall_score(y_test, lr_pred, pos_label='spam')\n",
    "lr_f1 = f1_score(y_test, lr_pred, pos_label='spam')\n",
    "\n",
    "print(\"Logistic Regression Model\")\n",
    "print(f\"Accuracy: {lr_accuracy:.2f}\")\n",
    "print(f\"Precision: {lr_precision:.2f}\")\n",
    "print(f\"Recall: {lr_recall:.2f}\")\n",
    "print(f\"F1 Score: {lr_f1:.2f}\")\n",
    "\n",
    "# Evaluate Naive Bayes model\n",
    "nb_accuracy = accuracy_score(y_test, nb_pred)\n",
    "nb_precision = precision_score(y_test, nb_pred, pos_label='spam')\n",
    "nb_recall = recall_score(y_test, nb_pred, pos_label='spam')\n",
    "nb_f1 = f1_score(y_test, nb_pred, pos_label='spam')\n",
    "\n",
    "print(\"\\nNaive Bayes Model\")\n",
    "print(f\"Accuracy: {nb_accuracy:.2f}\")\n",
    "print(f\"Precision: {nb_precision:.2f}\")\n",
    "print(f\"Recall: {nb_recall:.2f}\")\n",
    "print(f\"F1 Score: {nb_f1:.2f}\")\n",
    "\n",
    "# Evaluate Decision Tree model\n",
    "dt_accuracy = accuracy_score(y_test, dt_pred)\n",
    "dt_precision = precision_score(y_test, dt_pred, pos_label='spam')\n",
    "dt_recall = recall_score(y_test, dt_pred, pos_label='spam')\n",
    "dt_f1 = f1_score(y_test, dt_pred, pos_label='spam')\n",
    "\n",
    "print(\"\\nDecision Tree Model\")\n",
    "print(f\"Accuracy: {dt_accuracy:.2f}\")\n",
    "print(f\"Precision: {dt_precision:.2f}\")\n",
    "print(f\"Recall: {dt_recall:.2f}\")\n",
    "print(f\"F1 Score: {dt_f1:.2f}\")\n"
   ]
  },
  {
   "cell_type": "code",
   "execution_count": 570,
   "id": "130de6bd-e84e-4312-8d50-10aa1cf7325c",
   "metadata": {},
   "outputs": [
    {
     "data": {
      "text/html": [
       "\n",
       "\n",
       "    <p style=\"text-align: center; color: #2C3E50; font-family: 'Arial', sans-serif; margin-top: 50px;\">\n",
       "        Thank you for reviewing this project. <br>\n",
       "        Your feedback and insights are greatly appreciated. <br>\n",
       "        If you have any questions or suggestions, feel free to reach out.\n",
       "    </p>\n",
       "    <p style=\"text-align: center; color: #2C3E50; font-family: 'Arial', sans-serif; margin-top: 20px;\">\n",
       "        <strong>Contact:</strong> <br>\n",
       "        <a href=\"mailto:shad.ali@example.com\" style=\"color: #2874A6;\">alishad846@gmail.com</a>\n",
       "    </p>\n"
      ],
      "text/plain": [
       "<IPython.core.display.HTML object>"
      ]
     },
     "metadata": {},
     "output_type": "display_data"
    }
   ],
   "source": [
    "display(HTML('''\n",
    "\n",
    "    <p style=\"text-align: center; color: #2C3E50; font-family: 'Arial', sans-serif; margin-top: 50px;\">\n",
    "        Thank you for reviewing this project. <br>\n",
    "        Your feedback and insights are greatly appreciated. <br>\n",
    "        If you have any questions or suggestions, feel free to reach out.\n",
    "    </p>\n",
    "    <p style=\"text-align: center; color: #2C3E50; font-family: 'Arial', sans-serif; margin-top: 20px;\">\n",
    "        <strong>Contact:</strong> <br>\n",
    "        <a href=\"mailto:shad.ali@example.com\" style=\"color: #2874A6;\">alishad846@gmail.com</a>\n",
    "    </p>\n",
    "'''))"
   ]
  },
  {
   "cell_type": "code",
   "execution_count": null,
   "id": "278c8b6a-65b9-4bf4-97f9-584a1c77a17f",
   "metadata": {},
   "outputs": [],
   "source": []
  }
 ],
 "metadata": {
  "kernelspec": {
   "display_name": "Python 3 (ipykernel)",
   "language": "python",
   "name": "python3"
  },
  "language_info": {
   "codemirror_mode": {
    "name": "ipython",
    "version": 3
   },
   "file_extension": ".py",
   "mimetype": "text/x-python",
   "name": "python",
   "nbconvert_exporter": "python",
   "pygments_lexer": "ipython3",
   "version": "3.11.7"
  }
 },
 "nbformat": 4,
 "nbformat_minor": 5
}
